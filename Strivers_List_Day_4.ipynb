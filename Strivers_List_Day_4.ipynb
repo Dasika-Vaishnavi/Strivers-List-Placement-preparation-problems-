{
  "nbformat": 4,
  "nbformat_minor": 0,
  "metadata": {
    "colab": {
      "name": "Strivers_List_Day_4.ipynb",
      "provenance": [],
      "authorship_tag": "ABX9TyOdhPHHpGzf7zRX1Bno2B8i",
      "include_colab_link": true
    },
    "kernelspec": {
      "name": "python3",
      "display_name": "Python 3"
    },
    "language_info": {
      "name": "python"
    }
  },
  "cells": [
    {
      "cell_type": "markdown",
      "metadata": {
        "id": "view-in-github",
        "colab_type": "text"
      },
      "source": [
        "<a href=\"https://colab.research.google.com/github/Dasika-Vaishnavi/Strivers-List-Placement-preparation-problems-/blob/main/Strivers_List_Day_4.ipynb\" target=\"_parent\"><img src=\"https://colab.research.google.com/assets/colab-badge.svg\" alt=\"Open In Colab\"/></a>"
      ]
    },
    {
      "cell_type": "markdown",
      "source": [
        "# Arrays Part - 4"
      ],
      "metadata": {
        "id": "O__JQ9dc_TDA"
      }
    },
    {
      "cell_type": "markdown",
      "source": [
        "## 1. 2-Sum-Problem\n",
        "Given an array of integers nums and an integer target, return indices of the two numbers such that they add up to target.\n",
        "\n",
        "You may assume that each input would have exactly one solution, and you may not use the same element twice.\n",
        "\n",
        "You can return the answer in any order."
      ],
      "metadata": {
        "id": "Ph3TBAx9_X4F"
      }
    },
    {
      "cell_type": "code",
      "execution_count": null,
      "metadata": {
        "colab": {
          "base_uri": "https://localhost:8080/"
        },
        "id": "PLjspAev5atT",
        "outputId": "ef25454b-6009-47cc-9f65-e5e3dbadc6c3"
      },
      "outputs": [
        {
          "output_type": "stream",
          "name": "stdout",
          "text": [
            "[0, 1]\n"
          ]
        }
      ],
      "source": [
        "def twoSum(nums, target):\n",
        "\tbuffer_dictionary = {}\n",
        "\tfor i in range(len(nums)):\n",
        "\t\tif nums[i] in buffer_dictionary:\n",
        "\t\t\treturn [buffer_dictionary[nums[i]], i]\n",
        "\t\t\t\t\t\t\t\t\t\t\t\t\t\t\n",
        "\t\telse: \n",
        "\t\t\tbuffer_dictionary[target - nums[i]] = i\n",
        "nums = [2,7,11,15]\n",
        "target = 9\n",
        "print(twoSum(nums, target))"
      ]
    },
    {
      "cell_type": "markdown",
      "source": [
        "## 2. 4-sum-Problem\n",
        "Given an array nums of n integers, return an array of all the unique quadruplets [nums[a], nums[b], nums[c], nums[d]] such that:\n",
        "\n",
        "* 0 <= a, b, c, d < n\n",
        "* a, b, c, and d are distinct.\n",
        "* nums[a] + nums[b] + nums[c] + nums[d] == target\n",
        "* You may return the answer in any order."
      ],
      "metadata": {
        "id": "3rpDRyia_6rF"
      }
    },
    {
      "cell_type": "code",
      "source": [
        "import collections\n",
        "import itertools\n",
        "def fourSum(nums, target):\n",
        "    two_sum = collections.defaultdict(list)\n",
        "    res = set()\n",
        "    for (n1, i1), (n2, i2) in itertools.combinations(enumerate(nums), 2):\n",
        "        two_sum[i1+i2].append({n1, n2})\n",
        "    for t in list(two_sum.keys()):\n",
        "        if not two_sum[target-t]:\n",
        "            continue\n",
        "        for pair1 in two_sum[t]:\n",
        "            for pair2 in two_sum[target-t]:\n",
        "                if pair1.isdisjoint(pair2):\n",
        "                    res.add(tuple(sorted(nums[i] for i in pair1 | pair2)))\n",
        "        del two_sum[t]\n",
        "    return [list(r) for r in res]\n",
        "nums = [1,0,-1,0,-2,2]\n",
        "target = 0\n",
        "print(fourSum(nums, target))"
      ],
      "metadata": {
        "colab": {
          "base_uri": "https://localhost:8080/"
        },
        "id": "pKoRz1p0AQBS",
        "outputId": "e75d4e9d-b78f-4771-9165-13b8fcd35a69"
      },
      "execution_count": null,
      "outputs": [
        {
          "output_type": "stream",
          "name": "stdout",
          "text": [
            "[[-1, 0, 0, 1], [-2, 0, 0, 2], [-2, -1, 1, 2]]\n"
          ]
        }
      ]
    },
    {
      "cell_type": "markdown",
      "source": [
        "## 3. Longest Consecutive Sequence\n",
        "Given an unsorted array of integers nums, return the length of the longest consecutive elements sequence.\n",
        "\n",
        "You must write an algorithm that runs in O(n) time.\n",
        "\n",
        " \n",
        "\n",
        "Example 1:\n",
        "\n",
        "Input: nums = [100,4,200,1,3,2]\n",
        "Output: 4\n",
        "Explanation: The longest consecutive elements sequence is [1, 2, 3, 4]. Therefore its length is 4."
      ],
      "metadata": {
        "id": "ICGB0aNFCMDG"
      }
    },
    {
      "cell_type": "code",
      "source": [
        "def longestConsecutive(nums):\n",
        "    nums = sorted(nums)\n",
        "    for i in range(0, len(nums)-1):\n",
        "        if nums[i+1] - nums[i] == 1:\n",
        "            l.append(nums[i])\n",
        "    return len(l)\n",
        "nums =  [100,4,200,1,3,2]\n",
        "l = []\n",
        "print(longestConsecutive(nums)+1)"
      ],
      "metadata": {
        "colab": {
          "base_uri": "https://localhost:8080/"
        },
        "id": "A-q0HzwVBXmT",
        "outputId": "b17e1d39-a355-4bed-e556-ec46b96c562b"
      },
      "execution_count": null,
      "outputs": [
        {
          "output_type": "stream",
          "name": "stdout",
          "text": [
            "4\n"
          ]
        }
      ]
    },
    {
      "cell_type": "markdown",
      "source": [
        "# 4.Length of Largest Subarray with 0 sum\n"
      ],
      "metadata": {
        "id": "yXky3iUOGAYx"
      }
    },
    {
      "cell_type": "markdown",
      "source": [
        "Given an array of integers, find the length of the longest sub-array with a sum that equals 0.\n",
        "\n",
        "Examples: \n",
        "\n",
        "Input: arr[] = {15, -2, 2, -8, 1, 7, 10, 23};\n",
        "Output: 5\n",
        "Explanation: The longest sub-array with \n",
        "elements summing up-to 0 is {-2, 2, -8, 1, 7}"
      ],
      "metadata": {
        "id": "K8FOlTSKbWl6"
      }
    },
    {
      "cell_type": "code",
      "source": [
        "def maxLen(arr):\n",
        "    max_len = 0\n",
        "    for i in range(len(arr)):\n",
        "        curr_sum = 0\n",
        "        for j in range(i, len(arr)):\n",
        "         \n",
        "            curr_sum += arr[j]\n",
        "            if curr_sum == 0:\n",
        "                max_len = max(max_len, j-i + 1)\n",
        " \n",
        "    return max_len\n",
        "\n",
        "arr = [15, -2, 2, -8, 1, 7, 10, 13]\n",
        " \n",
        "print (maxLen(arr))"
      ],
      "metadata": {
        "colab": {
          "base_uri": "https://localhost:8080/"
        },
        "id": "LTVTUorIbI-R",
        "outputId": "3ea3ec58-3d24-45e4-80ee-e981fb78b342"
      },
      "execution_count": 1,
      "outputs": [
        {
          "output_type": "stream",
          "name": "stdout",
          "text": [
            "5\n"
          ]
        }
      ]
    },
    {
      "cell_type": "markdown",
      "source": [
        "# 5. Count number of subarrays with given Xor K\n",
        "Given an array of integers arr[] and a number m, count the number of subarrays having XOR of their elements as m.\n",
        "Examples: \n",
        "\n",
        "Input : arr[] = {4, 2, 2, 6, 4}, m = 6\n",
        "Output : 4\n",
        "Explanation : The subarrays having XOR of \n",
        "              their elements as 6 are {4, 2}, \n",
        "              {4, 2, 2, 6, 4}, {2, 2, 6},\n",
        "               and {6}"
      ],
      "metadata": {
        "id": "OsJksGf1c5OE"
      }
    },
    {
      "cell_type": "code",
      "source": [
        "def subarrayXor(arr, n, m):\n",
        "\tans = 0 \n",
        "\tfor i in range(0,n):\t\t\n",
        "\t\txorSum = 0 \n",
        "\t\tfor j in range(i,n):\n",
        "\t\t\txorSum = xorSum ^ arr[j]\n",
        "\t\t\tif (xorSum == m):\n",
        "\t\t\t\tans+=1\n",
        "\treturn ans\n",
        "\n",
        "arr = [ 4, 2, 2, 6, 4 ]\n",
        "n = len(arr)\n",
        "m = 6\n",
        "print(subarrayXor(arr, n, m))\n"
      ],
      "metadata": {
        "colab": {
          "base_uri": "https://localhost:8080/"
        },
        "id": "34IOYamBc9f6",
        "outputId": "f90bd159-5c4b-492d-c2b0-1790c1e902b5"
      },
      "execution_count": 4,
      "outputs": [
        {
          "output_type": "stream",
          "name": "stdout",
          "text": [
            "4\n"
          ]
        }
      ]
    },
    {
      "cell_type": "markdown",
      "source": [
        "# 6. Longest Substring without repeat\n",
        "Given a string s, find the length of the longest substring without repeating characters.\n",
        "\n",
        " \n",
        "\n",
        "Example 1:\n",
        "\n",
        "Input: s = \"abcabcbb\"\n",
        "Output: 3\n",
        "Explanation: The answer is \"abc\", with the length of 3.\n"
      ],
      "metadata": {
        "id": "G8bqDv_admsk"
      }
    },
    {
      "cell_type": "code",
      "source": [
        "def lengthOfLongestSubstring(s):\n",
        "    if len(s) == 0:\n",
        "        return 0\n",
        "    seen = {}\n",
        "    left, right = 0, 0\n",
        "    longest = 1\n",
        "    while right < len(s):\n",
        "        if s[right] in seen:\n",
        "            left = seen[s[right]]+1\n",
        "        longest = max(longest, right - left + 1)\n",
        "        seen[s[right]] = right\n",
        "        right += 1\n",
        "    return longest\n",
        "\n",
        "s = \"pwwkew\"\n",
        "print(lengthOfLongestSubstring(s))"
      ],
      "metadata": {
        "colab": {
          "base_uri": "https://localhost:8080/"
        },
        "id": "ef4BCScid1yj",
        "outputId": "43541dc3-9af7-4c6a-f1d2-386e4d257e26"
      },
      "execution_count": 5,
      "outputs": [
        {
          "output_type": "stream",
          "name": "stdout",
          "text": [
            "3\n"
          ]
        }
      ]
    }
  ]
}