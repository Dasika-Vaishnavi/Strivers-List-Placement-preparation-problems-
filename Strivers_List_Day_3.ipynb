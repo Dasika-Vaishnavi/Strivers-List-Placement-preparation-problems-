{
  "nbformat": 4,
  "nbformat_minor": 0,
  "metadata": {
    "colab": {
      "name": "Strivers_List_Day_3.ipynb",
      "provenance": [],
      "authorship_tag": "ABX9TyPsBnwahM2NwBb74xmhq7km",
      "include_colab_link": true
    },
    "kernelspec": {
      "name": "python3",
      "display_name": "Python 3"
    },
    "language_info": {
      "name": "python"
    }
  },
  "cells": [
    {
      "cell_type": "markdown",
      "metadata": {
        "id": "view-in-github",
        "colab_type": "text"
      },
      "source": [
        "<a href=\"https://colab.research.google.com/github/Dasika-Vaishnavi/Strivers-List-Placement-preparation-problems-/blob/main/Strivers_List_Day_3.ipynb\" target=\"_parent\"><img src=\"https://colab.research.google.com/assets/colab-badge.svg\" alt=\"Open In Colab\"/></a>"
      ]
    },
    {
      "cell_type": "markdown",
      "source": [
        "# Day 3: Arrays Part-III"
      ],
      "metadata": {
        "id": "-sCOMX0fh0EI"
      }
    },
    {
      "cell_type": "markdown",
      "source": [
        "# 1. Search in a 2d Matrix\n",
        "Write an efficient algorithm that searches for a value target in an m x n integer matrix matrix. This matrix has the following properties:\n",
        "\n",
        "Integers in each row are sorted from left to right.\n",
        "The first integer of each row is greater than the last integer of the previous row.\n",
        "Input: matrix = [[1,3,5,7],[10,11,16,20],[23,30,34,60]], target = 13\n",
        "Output: false\n",
        "Input: matrix = [[1,3,5,7],[10,11,16,20],[23,30,34,60]], target = 3\n",
        "Output: true\n",
        "\n",
        "![image.png](data:image/png;base64,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)"
      ],
      "metadata": {
        "id": "mCRm7Mshh5U5"
      }
    },
    {
      "cell_type": "code",
      "execution_count": null,
      "metadata": {
        "colab": {
          "base_uri": "https://localhost:8080/"
        },
        "id": "yQw-hc1RhWre",
        "outputId": "87b11ce1-1d72-4a6d-8e4e-4e033ae83a1d"
      },
      "outputs": [
        {
          "output_type": "stream",
          "name": "stdout",
          "text": [
            "False\n",
            "True\n"
          ]
        }
      ],
      "source": [
        "def searchMatrix(matrix, target):\n",
        "    for i in range(len(matrix)):\n",
        "        for j in range(len(matrix[0])):\n",
        "            if matrix[i][j] == target: return True\n",
        "    return False\n",
        "matrix_1 = [[1,3,5,7],[10,11,16,20],[23,30,34,60]]\n",
        "target_1 = 13\n",
        "matrix_2 = [[1,3,5,7],[10,11,16,20],[23,30,34,60]]\n",
        "target_2 = 3\n",
        "print(searchMatrix(matrix_1, target_1))\n",
        "print(searchMatrix(matrix_2, target_2))"
      ]
    },
    {
      "cell_type": "markdown",
      "source": [
        "# 2. Pow(X,n)\n",
        "Implement pow(x, n), which calculates x raised to the power n (i.e., xn).\n"
      ],
      "metadata": {
        "id": "hB0ORwy6lafm"
      }
    },
    {
      "cell_type": "code",
      "source": [
        "x = 2.00000 \n",
        "n = 10\n",
        "print(x**n)"
      ],
      "metadata": {
        "id": "CyvPP6p1j4bz",
        "colab": {
          "base_uri": "https://localhost:8080/"
        },
        "outputId": "b67c4af7-7d52-46a5-d425-ba0fa08b71ac"
      },
      "execution_count": 2,
      "outputs": [
        {
          "output_type": "stream",
          "name": "stdout",
          "text": [
            "1024.0\n"
          ]
        }
      ]
    },
    {
      "cell_type": "markdown",
      "source": [
        "# 3. Majority Element (>N/2 times)\n",
        "Given an array nums of size n, return the majority element.\n",
        "\n",
        "The majority element is the element that appears more than ⌊n / 2⌋ times. You may assume that the majority element always exists in the array.\n",
        "\n",
        " \n",
        "\n",
        "Example 1:\n",
        "\n",
        "Input: nums = [3,2,3]\n",
        "Output: 3"
      ],
      "metadata": {
        "id": "NmBgjaVQmCsh"
      }
    },
    {
      "cell_type": "code",
      "source": [
        "def majorityElement(nums):\n",
        "    s=list(set(nums))\n",
        "    l=len(nums)/2\n",
        "    for i in s:\n",
        "        if nums.count(i)>l:\n",
        "            return i\n",
        "nums = [3,2,3]\n",
        "print(majorityElement(nums))"
      ],
      "metadata": {
        "colab": {
          "base_uri": "https://localhost:8080/"
        },
        "id": "JhXieYYQmBqS",
        "outputId": "e9391a52-e520-43a0-9a33-d8b325f8ca6c"
      },
      "execution_count": 3,
      "outputs": [
        {
          "output_type": "stream",
          "name": "stdout",
          "text": [
            "3\n"
          ]
        }
      ]
    },
    {
      "cell_type": "markdown",
      "source": [
        "# 4.Majority Element (>N/3 times)\n",
        "Given an integer array of size n, find all elements that appear more than ⌊ n/3 ⌋ times.\n",
        "Input: nums = [3,2,3]\n",
        "Output: [3]"
      ],
      "metadata": {
        "id": "QMSkwZsxneS4"
      }
    },
    {
      "cell_type": "code",
      "source": [
        "import collections\n",
        "def majorityElement(nums):\n",
        "  ctr = collections.Counter()\n",
        "  for n in nums:\n",
        "    ctr[n] += 1\n",
        "    if len(ctr) == 3:\n",
        "      ctr -= collections.Counter(set(ctr))\n",
        "  return [n for n in ctr if nums.count(n) > len(nums)/3]\n",
        "nums = [3,2,3]\n",
        "print(majorityElement(nums))\n"
      ],
      "metadata": {
        "colab": {
          "base_uri": "https://localhost:8080/"
        },
        "id": "yeBhn-w6nrPA",
        "outputId": "61128171-1604-4f02-8df0-4b152104d3da"
      },
      "execution_count": 4,
      "outputs": [
        {
          "output_type": "stream",
          "name": "stdout",
          "text": [
            "[3]\n"
          ]
        }
      ]
    },
    {
      "cell_type": "markdown",
      "source": [
        "#5.Grid Unique Paths\n",
        "There is a robot on an m x n grid. The robot is initially located at the top-left corner (i.e., grid[0][0]). The robot tries to move to the bottom-right corner (i.e., grid[m - 1][n - 1]). The robot can only move either down or right at any point in time.\n",
        "\n",
        "Given the two integers m and n, return the number of possible unique paths that the robot can take to reach the bottom-right corner.\n",
        "\n",
        "The test cases are generated so that the answer will be less than or equal to 2 * 109.\n",
        "Input: m = 3, n = 7\n",
        "Output: 28\n",
        "\n",
        "![image.png](data:image/png;base64,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)"
      ],
      "metadata": {
        "id": "AkJc4kv_pN6V"
      }
    },
    {
      "cell_type": "code",
      "source": [
        "import math\n",
        "def uniquePaths(m, n):\n",
        "  return int(math.factorial(m+n-2)/math.factorial(m-1)/math.factorial(n-1))\n",
        "m = 3\n",
        "n = 7\n",
        "print(uniquePaths(m, n))"
      ],
      "metadata": {
        "colab": {
          "base_uri": "https://localhost:8080/"
        },
        "id": "4O3MnNxVostq",
        "outputId": "ebe76e6f-31c8-4e29-923e-670f6311a2ad"
      },
      "execution_count": 5,
      "outputs": [
        {
          "output_type": "stream",
          "name": "stdout",
          "text": [
            "28\n"
          ]
        }
      ]
    },
    {
      "cell_type": "markdown",
      "source": [
        "# 6. Reverse Pairs (Leetcode)\n",
        "Given an integer array nums, return the number of reverse pairs in the array.\n",
        "\n",
        "A reverse pair is a pair (i, j) where 0 <= i < j < nums.length and nums[i] > 2 * nums[j].\n",
        "\n",
        " \n",
        "\n",
        "Example 1:\n",
        "\n",
        "Input: nums = [1,3,2,3,1]\n",
        "Output: 2"
      ],
      "metadata": {
        "id": "_Cbq5Dowqhcn"
      }
    },
    {
      "cell_type": "code",
      "source": [
        "# Solution Based on Merge Sort\n",
        "def reversePairs(nums):\n",
        "    count = 0\n",
        "\n",
        "    def merge(left, right):\n",
        "        nonlocal count\n",
        "        i = j = 0\n",
        "        while i < len(left) and j < len(right):\n",
        "            if left[i] <= 2*right[j]:\n",
        "                i += 1\n",
        "            else:\n",
        "                count += len(left)-i\n",
        "                j += 1\n",
        "\n",
        "        return sorted(left+right)\n",
        "\n",
        "\n",
        "    def mergeSort(A):\n",
        "        if len(A) <= 1:\n",
        "            return A\n",
        "        return merge(mergeSort(A[:(len(A) + 1) // 2]), mergeSort(A[(len(A) + 1) // 2:]))\n",
        "\n",
        "    mergeSort(nums)\n",
        "    return count\n",
        "\n",
        "nums = [1,3,2,3,1]\n",
        "print(reversePairs(nums))\n"
      ],
      "metadata": {
        "colab": {
          "base_uri": "https://localhost:8080/"
        },
        "id": "lPTrXeEaqbNf",
        "outputId": "bfef5c6c-6937-458d-a266-0e866b1e0dcd"
      },
      "execution_count": 6,
      "outputs": [
        {
          "output_type": "stream",
          "name": "stdout",
          "text": [
            "2\n"
          ]
        }
      ]
    }
  ]
}