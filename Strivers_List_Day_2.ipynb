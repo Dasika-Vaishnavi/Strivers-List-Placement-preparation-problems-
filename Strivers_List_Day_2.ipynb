{
  "nbformat": 4,
  "nbformat_minor": 0,
  "metadata": {
    "colab": {
      "name": "Strivers_List_Day_2.ipynb",
      "provenance": [],
      "authorship_tag": "ABX9TyPbsCFx6Qbcq+Qa32YRIj1b",
      "include_colab_link": true
    },
    "kernelspec": {
      "name": "python3",
      "display_name": "Python 3"
    },
    "language_info": {
      "name": "python"
    }
  },
  "cells": [
    {
      "cell_type": "markdown",
      "metadata": {
        "id": "view-in-github",
        "colab_type": "text"
      },
      "source": [
        "<a href=\"https://colab.research.google.com/github/Dasika-Vaishnavi/Strivers-List-Placement-preparation-problems-/blob/main/Strivers_List_Day_2.ipynb\" target=\"_parent\"><img src=\"https://colab.research.google.com/assets/colab-badge.svg\" alt=\"Open In Colab\"/></a>"
      ]
    },
    {
      "cell_type": "markdown",
      "source": [
        "# Day-2: Arrays-Part_2"
      ],
      "metadata": {
        "id": "ECzc-pmIGQKg"
      }
    },
    {
      "cell_type": "markdown",
      "source": [
        "# 1. Rotate Matrix\n",
        "You are given an n x n 2D matrix representing an image, rotate the image by 90 degrees (clockwise).\n",
        "\n",
        "You have to rotate the image in-place, which means you have to modify the input 2D matrix directly. DO NOT allocate another 2D matrix and do the rotation.\n",
        "Input: matrix = [[1,2,3],[4,5,6],[7,8,9]]\n",
        "Output: [[7,4,1],[8,5,2],[9,6,3]]\n",
        "\n",
        "![image.png](data:image/png;base64,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)"
      ],
      "metadata": {
        "id": "nFjFSMrwGhh0"
      }
    },
    {
      "cell_type": "code",
      "execution_count": 1,
      "metadata": {
        "colab": {
          "base_uri": "https://localhost:8080/"
        },
        "id": "X07SldVzFTW4",
        "outputId": "e06165e6-6913-40d7-ab2d-8508d9af6b5d"
      },
      "outputs": [
        {
          "output_type": "stream",
          "name": "stdout",
          "text": [
            "[[7, 4, 1], [8, 5, 2], [9, 6, 3]]\n"
          ]
        }
      ],
      "source": [
        "def rotate(matrix):\n",
        "    # reverse\n",
        "    l = 0\n",
        "    r = len(matrix) -1\n",
        "    while l < r:\n",
        "        matrix[l], matrix[r] = matrix[r], matrix[l]\n",
        "        l += 1\n",
        "        r -= 1\n",
        "    # transpose \n",
        "        for i in range(len(matrix)):\n",
        "\t        for j in range(i):\n",
        "\t\t        matrix[i][j], matrix[j][i] = matrix[j][i], matrix[i][j]\n",
        "        return matrix\n",
        "\n",
        "matrix = [[1,2,3],[4,5,6],[7,8,9]]\n",
        "print(rotate(matrix))"
      ]
    },
    {
      "cell_type": "markdown",
      "source": [
        "# 2.Merge Overlapping Subintervals\n",
        "Given an array of intervals where intervals[i] = [starti, endi], merge all overlapping intervals, and return an array of the non-overlapping intervals that cover all the intervals in the input.\n",
        "\n",
        " \n",
        "\n",
        "Example 1:\n",
        "\n",
        "Input: intervals = [[1,3],[2,6],[8,10],[15,18]]\n",
        "Output: [[1,6],[8,10],[15,18]]\n",
        "Explanation: Since intervals [1,3] and [2,6] overlaps, merge them into [1,6]."
      ],
      "metadata": {
        "id": "qzH0HaDAIZrx"
      }
    },
    {
      "cell_type": "code",
      "source": [
        "def merge(intervals):\n",
        "    res = []\n",
        "    for i in sorted(intervals, key=lambda x:x[0]):\n",
        "        if res and i[0]<=res[-1][1]:\n",
        "            res[-1][1] = max(i[1], res[-1][1])\n",
        "        else:\n",
        "            res +=[i]\n",
        "    return res\n",
        "intervals = [[1,3],[2,6],[8,10],[15,18]]\n",
        "print(merge(intervals))"
      ],
      "metadata": {
        "colab": {
          "base_uri": "https://localhost:8080/"
        },
        "id": "bN8D0lDjIbhb",
        "outputId": "b62a336f-dca7-42cc-fa36-885899a37b15"
      },
      "execution_count": 2,
      "outputs": [
        {
          "output_type": "stream",
          "name": "stdout",
          "text": [
            "[[1, 6], [8, 10], [15, 18]]\n"
          ]
        }
      ]
    },
    {
      "cell_type": "markdown",
      "source": [
        "# 3.Merge two sorted Arrays without extra space\n",
        "You are given two integer arrays nums1 and nums2, sorted in non-decreasing order, and two integers m and n, representing the number of elements in nums1 and nums2 respectively.\n",
        "\n",
        "Merge nums1 and nums2 into a single array sorted in non-decreasing order.\n",
        "\n",
        "The final sorted array should not be returned by the function, but instead be stored inside the array nums1. To accommodate this, nums1 has a length of m + n, where the first m elements denote the elements that should be merged, and the last n elements are set to 0 and should be ignored. nums2 has a length of n.\n",
        "\n",
        " \n",
        "\n",
        "Example 1:\n",
        "\n",
        "Input: nums1 = [1,2,3,0,0,0], m = 3, nums2 = [2,5,6], n = 3\n",
        "Output: [1,2,2,3,5,6]\n",
        "Explanation: The arrays we are merging are [1,2,3] and [2,5,6].\n",
        "The result of the merge is [1,2,2,3,5,6] with the underlined elements coming from nums1."
      ],
      "metadata": {
        "id": "mG5nJQDIKJvc"
      }
    },
    {
      "cell_type": "code",
      "source": [
        "def merge(nums1, m, nums2, n):\n",
        "    while m > 0 and n > 0:\n",
        "        if nums1[m - 1] > nums2[n - 1]:\n",
        "            nums1[m + n - 1] = nums1[m - 1]\n",
        "            m -= 1\n",
        "        else:\n",
        "            nums1[m + n - 1] = nums2[n - 1]\n",
        "            n -= 1\n",
        "    nums1[:n] = nums2[:n]\n",
        "    return nums1\n",
        "nums1 = [1,2,3,0,0,0]\n",
        "nums2 = [2,5,6]\n",
        "m = 3\n",
        "n = 3\n",
        "print(merge(nums1, m, nums2, n))\n"
      ],
      "metadata": {
        "colab": {
          "base_uri": "https://localhost:8080/"
        },
        "id": "Jc6jhIjvKGgG",
        "outputId": "d15faa58-9325-4394-dfb1-a10e054cfffc"
      },
      "execution_count": 3,
      "outputs": [
        {
          "output_type": "stream",
          "name": "stdout",
          "text": [
            "[1, 2, 2, 3, 5, 6]\n"
          ]
        }
      ]
    },
    {
      "cell_type": "markdown",
      "source": [
        "# 4.Find the duplicate in an array of N+1 integers.\n",
        "Given an array of integers nums containing n + 1 integers where each integer is in the range [1, n] inclusive.\n",
        "\n",
        "There is only one repeated number in nums, return this repeated number.\n",
        "\n",
        "You must solve the problem without modifying the array nums and uses only constant extra space.\n",
        "\n",
        " \n",
        "\n",
        "Example 1:\n",
        "\n",
        "Input: nums = [1,3,4,2,2]\n",
        "Output: 2"
      ],
      "metadata": {
        "id": "zW3ntu6nM34P"
      }
    },
    {
      "cell_type": "code",
      "source": [
        "def findDuplicate(nums):\n",
        "    t, h = nums[0], nums[nums[0]]\n",
        "    while t != h: \n",
        "        t, h = nums[t], nums[nums[h]]\n",
        "    t = 0\n",
        "    while t != h: \n",
        "        t, h = nums[t], nums[h]\n",
        "    return t\n",
        "nums = [1,3,4,2,2]\n",
        "print(findDuplicate(nums))\n"
      ],
      "metadata": {
        "colab": {
          "base_uri": "https://localhost:8080/"
        },
        "id": "bYR6_cojNCJh",
        "outputId": "8fe8d5d5-e8c5-489d-f314-09053aafa735"
      },
      "execution_count": 4,
      "outputs": [
        {
          "output_type": "stream",
          "name": "stdout",
          "text": [
            "2\n"
          ]
        }
      ]
    },
    {
      "cell_type": "markdown",
      "source": [
        "#5.Repeat and Missing Number\n",
        "Given an array nums containing n distinct numbers in the range [0, n], return the only number in the range that is missing from the array.\n",
        "\n",
        " \n",
        "\n",
        "Example 1:\n",
        "\n",
        "Input: nums = [3,0,1]\n",
        "Output: 2\n",
        "Explanation: n = 3 since there are 3 numbers, so all numbers are in the range [0,3]. 2 is the missing number in the range since it does not appear in nums."
      ],
      "metadata": {
        "id": "9OF9-lfJPFYD"
      }
    },
    {
      "cell_type": "code",
      "source": [
        "def missingNumber(nums):\n",
        "    return sum(range(len(nums)+1)) - sum(nums)\n",
        "\n",
        "nums = [3,0,1]\n",
        "print(missingNumber(nums))"
      ],
      "metadata": {
        "colab": {
          "base_uri": "https://localhost:8080/"
        },
        "id": "KesgBBnxP46g",
        "outputId": "1bc298cc-7189-4991-c568-18a45a006137"
      },
      "execution_count": 5,
      "outputs": [
        {
          "output_type": "stream",
          "name": "stdout",
          "text": [
            "2\n"
          ]
        }
      ]
    },
    {
      "cell_type": "markdown",
      "source": [
        "# 6.Inversion of Array (Pre-req: Merge Sort)\n",
        "\n",
        "Input Format: N = 5, array[] = {5,4,3,2,1}\n",
        "\n",
        "Result: 10\n",
        "\n",
        "Explanation: we have a reverse sorted array and we will \n",
        "get the maximum inversions as for i < j we will always \n",
        "find a pair such that A[j] < A[i]. \n",
        "Example: 5 has index 0 and 3 has index 2 now (5,3) pair \n",
        "is inversion as 0 < 2 and 5 > 3 which will satisfy out \n",
        "conditions and for reverse sorted array we will get \n",
        "maximum inversions and that is (n)*(n-1) / 2.\n",
        "\n",
        "For above given array there is 4 + 3 + 2 + 1 = 10 inversions."
      ],
      "metadata": {
        "id": "liMavtfjQa2L"
      }
    },
    {
      "cell_type": "code",
      "source": [
        "def isIdealPermutation(A):\n",
        "    numLoc = 0\n",
        "    numGlo = 0\n",
        "\n",
        "    for idx, num in enumerate(A):\n",
        "        if num > idx:\n",
        "            numGlo += (num-idx)\n",
        "        elif num < idx:\n",
        "            numGlo += (idx-num-1)\n",
        "            \n",
        "        if idx < len(A)-1 and num > A[idx+1]:\n",
        "            numLoc += 1\n",
        "        \n",
        "    print(numLoc, numGlo)\n",
        "    return numLoc == numGlo\n",
        "\n",
        "A = [1, 0, 2]\n",
        "k = (isIdealPermutation(A))"
      ],
      "metadata": {
        "colab": {
          "base_uri": "https://localhost:8080/"
        },
        "id": "mI1bSqJeQvIu",
        "outputId": "046641d9-17d1-4bc5-e201-bfca04c98b97"
      },
      "execution_count": 6,
      "outputs": [
        {
          "output_type": "stream",
          "name": "stdout",
          "text": [
            "1 1\n"
          ]
        }
      ]
    }
  ]
}